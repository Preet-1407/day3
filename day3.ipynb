{
 "cells": [
  {
   "cell_type": "code",
   "execution_count": 2,
   "id": "d237f0cf",
   "metadata": {},
   "outputs": [
    {
     "data": {
      "text/plain": [
       "{1: 'apple'}"
      ]
     },
     "execution_count": 2,
     "metadata": {},
     "output_type": "execute_result"
    }
   ],
   "source": [
    "\n",
    "sample_dict={1:\"apple\"}\n",
    "sample_dict"
   ]
  },
  {
   "cell_type": "code",
   "execution_count": 3,
   "id": "cd3eab29",
   "metadata": {},
   "outputs": [
    {
     "data": {
      "text/plain": [
       "'apple'"
      ]
     },
     "execution_count": 3,
     "metadata": {},
     "output_type": "execute_result"
    }
   ],
   "source": [
    "sample_dict[1]"
   ]
  },
  {
   "cell_type": "code",
   "execution_count": 4,
   "id": "27c812e2",
   "metadata": {},
   "outputs": [
    {
     "ename": "NameError",
     "evalue": "name 'apple' is not defined",
     "output_type": "error",
     "traceback": [
      "\u001b[1;31m---------------------------------------------------------------------------\u001b[0m",
      "\u001b[1;31mNameError\u001b[0m                                 Traceback (most recent call last)",
      "Cell \u001b[1;32mIn[4], line 1\u001b[0m\n\u001b[1;32m----> 1\u001b[0m sample_dict[\u001b[43mapple\u001b[49m]\n",
      "\u001b[1;31mNameError\u001b[0m: name 'apple' is not defined"
     ]
    }
   ],
   "source": [
    "sample_dict[apple]"
   ]
  },
  {
   "cell_type": "code",
   "execution_count": 5,
   "id": "16df4972",
   "metadata": {},
   "outputs": [
    {
     "ename": "NameError",
     "evalue": "name 'hii' is not defined",
     "output_type": "error",
     "traceback": [
      "\u001b[1;31m---------------------------------------------------------------------------\u001b[0m",
      "\u001b[1;31mNameError\u001b[0m                                 Traceback (most recent call last)",
      "Cell \u001b[1;32mIn[5], line 1\u001b[0m\n\u001b[1;32m----> 1\u001b[0m sample_dict[\u001b[38;5;241m2\u001b[39m]\u001b[38;5;241m=\u001b[39m\u001b[43mhii\u001b[49m\n\u001b[0;32m      2\u001b[0m sample_dict[\u001b[38;5;241m2\u001b[39m]\n",
      "\u001b[1;31mNameError\u001b[0m: name 'hii' is not defined"
     ]
    }
   ],
   "source": [
    "sample_dict[2]=hii\n",
    "sample_dict[]"
   ]
  },
  {
   "cell_type": "code",
   "execution_count": 7,
   "id": "b6ff7dee",
   "metadata": {},
   "outputs": [],
   "source": [
    "##key is always diffrent if use same it takr last key \n",
    "##values can duplicate \n",
    "##key value pair data structer\n",
    "##we can retrive value using key \n",
    "##we cannot retrive value using key"
   ]
  },
  {
   "cell_type": "code",
   "execution_count": null,
   "id": "311e46a0",
   "metadata": {},
   "outputs": [],
   "source": []
  }
 ],
 "metadata": {
  "kernelspec": {
   "display_name": "Python 3 (ipykernel)",
   "language": "python",
   "name": "python3"
  },
  "language_info": {
   "codemirror_mode": {
    "name": "ipython",
    "version": 3
   },
   "file_extension": ".py",
   "mimetype": "text/x-python",
   "name": "python",
   "nbconvert_exporter": "python",
   "pygments_lexer": "ipython3",
   "version": "3.10.9"
  }
 },
 "nbformat": 4,
 "nbformat_minor": 5
}
